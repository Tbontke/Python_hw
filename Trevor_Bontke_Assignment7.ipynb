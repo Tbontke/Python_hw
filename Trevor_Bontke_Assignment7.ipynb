{
  "cells": [
    {
      "attachments": {},
      "cell_type": "markdown",
      "metadata": {
        "id": "FoAbcDVSHT4u"
      },
      "source": [
        "## Word count\n",
        "Write a python program that takes a  text file name from the command line as input, reads in the file, and prints the number of occurrences of every word in the file. Your program should use a custom function for processing the number of occurrences, and this function should be case-insensitive so 'Hello' and 'hello' are treated as the same word. You should ignore words of length 2 or less. The results printed will be ordered from the most frequent to the least frequent. Hint: dictionary and list. Test your implementation on file great_expectations.txt.\n",
        "\n",
        "\n",
        "### Requirements: \n",
        "(1) Your programme should capture the input file name from the command line<br> \n",
        "(2) Your programme should use python exception  (i.e.)  to validate that (a) the user of the programme provides the correct arguements at the command line, (b) the file indicated by the user of the program exists and if not throw an exception<br>\n",
        "\n",
        "<br>The program should work like this <br>\n",
        " `python wordcount.py example_file.txt`\n",
        "\n",
        "the 50\n",
        "\n",
        "hello 5\n",
        "\n",
        "can 3 \n",
        "\n",
        "was 3\n",
        " \n",
        "\n",
        "`python wordcount.py` \n",
        "\n",
        "Please provide a  file name as an additional command line argument\n",
        " \n",
        "\n",
        "\n",
        "`python wordcount.py  /usr/example_file.txt`\n",
        "\n",
        "The file name you used  \"/usr/example_file.txt\" does not exist. Please provide a file that exists. \n",
        "\n",
        "\n",
        "My filename is: Trevor_Bontke_Assignment7-great_expectations\n",
        "    "
      ]
    },
    {
      "cell_type": "code",
      "execution_count": 5,
      "metadata": {
        "id": "AsmcpX2XK1XT"
      },
      "outputs": [
        {
          "name": "stdout",
          "output_type": "stream",
          "text": [
            "Overwriting wordcount.py\n"
          ]
        }
      ],
      "source": [
        "%%writefile wordcount.py \n",
        "\n",
        "import sys\n",
        "import re\n",
        "\n",
        "filename = sys.argv[1]\n",
        "\n",
        "with open (filename+\".txt\",\"r\") as f:\n",
        "    text = f.read()\n",
        "\n",
        "word_dict = {}\n",
        "\n",
        "for word in re.split(\"[^a-zA-Z']\",text.lower()):\n",
        "    \n",
        "    if word != \"\" and len(word) > 2:\n",
        "        try:\n",
        "            word_dict[word] += 1\n",
        "        except:\n",
        "            word_dict.update({word:1})\n",
        "\n",
        "\n",
        "class parse:\n",
        "  def __init__(self, words: dict):\n",
        "    self.words = words\n",
        "    \n",
        "\n",
        "  def unique(self):\n",
        "    print(f\"There are {len(self.words)} uniquie words\\n\")\n",
        "  def topN(self, n=None):\n",
        "    ls = sorted(self.words.items(), key=lambda x:x[1],reverse=True)\n",
        "    if n is None:\n",
        "      for pair in ls:\n",
        "        print(f'Word: \"{pair[0]}\"\\nFrequency: {pair[1]}\\n')\n",
        "    else:\n",
        "      for i in range(n):\n",
        "        print(f'Word: \"{ls[i][0]}\"\\nFrequency: {ls[i][1]}\\n')\n",
        "\n",
        "word_freq = parse(word_dict)\n",
        "word_freq.unique()\n",
        "if len(sys.argv) == 3:\n",
        "  n = int(sys.argv[2])\n",
        "  word_freq.topN(n)\n",
        "else:\n",
        "  word_freq.topN()\n"
      ]
    },
    {
      "cell_type": "code",
      "execution_count": 6,
      "metadata": {
        "id": "baLlDa6sHT4y"
      },
      "outputs": [
        {
          "name": "stdout",
          "output_type": "stream",
          "text": [
            "There are 11191 uniquie words\n",
            "\n",
            "Word: \"the\"\n",
            "Frequency: 8321\n",
            "\n",
            "Word: \"and\"\n",
            "Frequency: 7160\n",
            "\n",
            "Word: \"that\"\n",
            "Frequency: 3001\n",
            "\n",
            "Word: \"was\"\n",
            "Frequency: 2837\n",
            "\n",
            "Word: \"you\"\n",
            "Frequency: 2256\n",
            "\n"
          ]
        }
      ],
      "source": [
        "!python wordcount.py Trevor_Bontke_Assignment7-great_expectations 5"
      ]
    },
    {
      "attachments": {},
      "cell_type": "markdown",
      "metadata": {},
      "source": [
        "### Pandas Version\n",
        "\n",
        "This code is just used to check the dictionary based code against"
      ]
    },
    {
      "cell_type": "code",
      "execution_count": 174,
      "metadata": {},
      "outputs": [],
      "source": [
        "filename = input(\"Please enter the name of the file you wish to evaluate. (Don't include the file extension)\").lower()\n",
        "\n",
        "with open (filename+\".txt\",\"r\") as f:\n",
        "    text = f.read()\n",
        "\n",
        "text = text.lower()"
      ]
    },
    {
      "cell_type": "code",
      "execution_count": 178,
      "metadata": {},
      "outputs": [
        {
          "data": {
            "text/html": [
              "<div>\n",
              "<style scoped>\n",
              "    .dataframe tbody tr th:only-of-type {\n",
              "        vertical-align: middle;\n",
              "    }\n",
              "\n",
              "    .dataframe tbody tr th {\n",
              "        vertical-align: top;\n",
              "    }\n",
              "\n",
              "    .dataframe thead th {\n",
              "        text-align: right;\n",
              "    }\n",
              "</style>\n",
              "<table border=\"1\" class=\"dataframe\">\n",
              "  <thead>\n",
              "    <tr style=\"text-align: right;\">\n",
              "      <th></th>\n",
              "      <th>Word</th>\n",
              "    </tr>\n",
              "  </thead>\n",
              "  <tbody>\n",
              "    <tr>\n",
              "      <th>count</th>\n",
              "      <td>233593</td>\n",
              "    </tr>\n",
              "    <tr>\n",
              "      <th>unique</th>\n",
              "      <td>11287</td>\n",
              "    </tr>\n",
              "    <tr>\n",
              "      <th>top</th>\n",
              "      <td></td>\n",
              "    </tr>\n",
              "    <tr>\n",
              "      <th>freq</th>\n",
              "      <td>43848</td>\n",
              "    </tr>\n",
              "  </tbody>\n",
              "</table>\n",
              "</div>"
            ],
            "text/plain": [
              "          Word\n",
              "count   233593\n",
              "unique   11287\n",
              "top           \n",
              "freq     43848"
            ]
          },
          "execution_count": 178,
          "metadata": {},
          "output_type": "execute_result"
        }
      ],
      "source": [
        "import re\n",
        "import pandas as pd\n",
        "\n",
        "# Splits up the text by everything that isn't a letter or an ' and puts the words in a df\n",
        "words = pd.DataFrame(re.split(\"[^a-zA-Z']\",text),columns=[\"Word\"])\n",
        "# Shows the information about the df\n",
        "words.describe()"
      ]
    },
    {
      "cell_type": "code",
      "execution_count": 179,
      "metadata": {},
      "outputs": [
        {
          "data": {
            "text/html": [
              "<div>\n",
              "<style scoped>\n",
              "    .dataframe tbody tr th:only-of-type {\n",
              "        vertical-align: middle;\n",
              "    }\n",
              "\n",
              "    .dataframe tbody tr th {\n",
              "        vertical-align: top;\n",
              "    }\n",
              "\n",
              "    .dataframe thead th {\n",
              "        text-align: right;\n",
              "    }\n",
              "</style>\n",
              "<table border=\"1\" class=\"dataframe\">\n",
              "  <thead>\n",
              "    <tr style=\"text-align: right;\">\n",
              "      <th></th>\n",
              "      <th>Word</th>\n",
              "    </tr>\n",
              "  </thead>\n",
              "  <tbody>\n",
              "    <tr>\n",
              "      <th>count</th>\n",
              "      <td>142742</td>\n",
              "    </tr>\n",
              "    <tr>\n",
              "      <th>unique</th>\n",
              "      <td>11191</td>\n",
              "    </tr>\n",
              "    <tr>\n",
              "      <th>top</th>\n",
              "      <td>the</td>\n",
              "    </tr>\n",
              "    <tr>\n",
              "      <th>freq</th>\n",
              "      <td>8321</td>\n",
              "    </tr>\n",
              "  </tbody>\n",
              "</table>\n",
              "</div>"
            ],
            "text/plain": [
              "          Word\n",
              "count   142742\n",
              "unique   11191\n",
              "top        the\n",
              "freq      8321"
            ]
          },
          "execution_count": 179,
          "metadata": {},
          "output_type": "execute_result"
        }
      ],
      "source": [
        "# Getting the indicies of all words that are empty strings or are less than 3 letter\n",
        "index = words[ (words['Word'] == \"\") | (words['Word'].str.len() < 3) ].index\n",
        "# Dropping the words with the given indicies\n",
        "words.drop(index , inplace=True)\n",
        "# Checking the df information again for comparison\n",
        "words.describe()"
      ]
    },
    {
      "cell_type": "code",
      "execution_count": 181,
      "metadata": {},
      "outputs": [
        {
          "name": "stdout",
          "output_type": "stream",
          "text": [
            "The word \"\" is in the dataframe: False\n",
            "The word \"he\" is in the dataframe: False\n",
            "The word \"do\" is in the dataframe: False\n",
            "The word \"a\" is in the dataframe: False\n",
            "The word \"be\" is in the dataframe: False\n",
            "The word \"father's\" is in the dataframe: True\n",
            "The word \"don't\" is in the dataframe: True\n",
            "The word \"ha'\" is in the dataframe: True\n"
          ]
        }
      ],
      "source": [
        "# A useful tool for checking if certain words are in the dataframe\n",
        "word_ls = [\"\",\"he\",\"do\",\"a\",\"be\",\"father's\",\"don't\",\"ha'\"]\n",
        "\n",
        "for word in word_ls:\n",
        "\n",
        "    print(f'The word \"{word}\" is in the dataframe: {word in words[\"Word\"].unique()}')"
      ]
    },
    {
      "cell_type": "code",
      "execution_count": 180,
      "metadata": {},
      "outputs": [
        {
          "data": {
            "text/plain": [
              "Word\n",
              "the     8321\n",
              "and     7160\n",
              "that    3001\n",
              "was     2837\n",
              "you     2256\n",
              "had     2093\n",
              "his     1860\n",
              "with    1807\n",
              "for     1408\n",
              "said    1349\n",
              "her     1172\n",
              "him     1151\n",
              "have    1091\n",
              "not     1088\n",
              "but     1071\n",
              "dtype: int64"
            ]
          },
          "execution_count": 180,
          "metadata": {},
          "output_type": "execute_result"
        }
      ],
      "source": [
        "# Displays n words with the highest frequency\n",
        "n_top = 15\n",
        "words.value_counts().head(n_top)"
      ]
    }
  ],
  "metadata": {
    "colab": {
      "provenance": [],
      "toc_visible": true
    },
    "kernelspec": {
      "display_name": "Python 3",
      "language": "python",
      "name": "python3"
    },
    "language_info": {
      "codemirror_mode": {
        "name": "ipython",
        "version": 3
      },
      "file_extension": ".py",
      "mimetype": "text/x-python",
      "name": "python",
      "nbconvert_exporter": "python",
      "pygments_lexer": "ipython3",
      "version": "3.11.1"
    },
    "vscode": {
      "interpreter": {
        "hash": "076ce45b75459bed5afd64abb44a887be25134f958609de81e763b3ff86dd5f0"
      }
    }
  },
  "nbformat": 4,
  "nbformat_minor": 0
}
