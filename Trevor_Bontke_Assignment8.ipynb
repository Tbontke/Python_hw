{
 "cells": [
  {
   "attachments": {},
   "cell_type": "markdown",
   "metadata": {},
   "source": [
    "1. Write a python program that will find the longest word in a file. The program should print the word and the number of characters in that word. Hint you would be using dictionaries, string module, and files for this exercise. The file for this exercise is ‘TomSawyer.txt’"
   ]
  },
  {
   "cell_type": "code",
   "execution_count": 40,
   "metadata": {},
   "outputs": [],
   "source": [
    "class parse:\n",
    "    def __init__(self, words: dict):\n",
    "        self.words = words\n",
    "        \n",
    "\n",
    "    def unique(self):\n",
    "        print(f\"There are {len(self.words)} uniquie words\")\n",
    "    def topN(self, n=None):\n",
    "        freq_ls = sorted(self.words.items(), key=lambda x:x[1],reverse=True)\n",
    "        if n is None:\n",
    "            for pair in freq_ls:\n",
    "                print(f'Word: \"{pair[0]}\"\\nFrequency: {pair[1]}\\n')\n",
    "        else:\n",
    "            for i in range(n):\n",
    "                print(f'Word: \"{freq_ls[i][0]}\"\\nFrequency: {freq_ls[i][1]}\\n')\n",
    "    def longest(self, n=None):\n",
    "        long_ls = sorted(self.words.items(), key=lambda x:x[1][1],reverse=True)\n",
    "        if n is None:\n",
    "            print(f'Word: \"{long_ls[0][0]}\"\\nLength: {long_ls[0][1][1]}\\n')\n",
    "        else:\n",
    "            for i in range(n):\n",
    "                print(f'Word: \"{long_ls[i][0]}\"\\nLength: {long_ls[i][1][1]}\\n')\n",
    "        "
   ]
  },
  {
   "cell_type": "code",
   "execution_count": 41,
   "metadata": {},
   "outputs": [],
   "source": [
    "def find_longest_word(filename: str, n_words: int=None):\n",
    "    \n",
    "    import re\n",
    "\n",
    "    with open (filename+\".txt\",\"r\") as f:\n",
    "        text = f.read()\n",
    "\n",
    "    word_dict = {}\n",
    "\n",
    "    for word in re.split(\"[^a-zA-Z']\",text.lower()):\n",
    "        \n",
    "        if word != \"\" or len(word) > 2:\n",
    "            try:\n",
    "                word_dict[word][0] += 1\n",
    "            except:\n",
    "                word_dict.update({word:[1,len(word)]})\n",
    "\n",
    "\n",
    "    \n",
    "    word_freq = parse(word_dict)\n",
    "    word_freq.longest(n_words)\n"
   ]
  },
  {
   "cell_type": "code",
   "execution_count": 42,
   "metadata": {},
   "outputs": [
    {
     "name": "stdout",
     "output_type": "stream",
     "text": [
      "Word: \"foretopmaststuns'l\"\n",
      "Length: 18\n",
      "\n",
      "Word: \"unenforceability\"\n",
      "Length: 16\n",
      "\n",
      "Word: \"characteristics\"\n",
      "Length: 15\n",
      "\n",
      "Word: \"conspicuousness\"\n",
      "Length: 15\n",
      "\n",
      "Word: \"distinguishable\"\n",
      "Length: 15\n",
      "\n"
     ]
    }
   ],
   "source": [
    "find_longest_word('Trevor_Bontke_Assignment8_TomSawyer',5)"
   ]
  }
 ],
 "metadata": {
  "kernelspec": {
   "display_name": "Python 3",
   "language": "python",
   "name": "python3"
  },
  "language_info": {
   "codemirror_mode": {
    "name": "ipython",
    "version": 3
   },
   "file_extension": ".py",
   "mimetype": "text/x-python",
   "name": "python",
   "nbconvert_exporter": "python",
   "pygments_lexer": "ipython3",
   "version": "3.11.1"
  },
  "vscode": {
   "interpreter": {
    "hash": "076ce45b75459bed5afd64abb44a887be25134f958609de81e763b3ff86dd5f0"
   }
  }
 },
 "nbformat": 4,
 "nbformat_minor": 4
}
