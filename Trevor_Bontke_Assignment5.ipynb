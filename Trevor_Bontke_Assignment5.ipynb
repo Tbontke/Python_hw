{
 "cells": [
  {
   "attachments": {},
   "cell_type": "markdown",
   "metadata": {},
   "source": [
    "# Finding Palindromes\n",
    "Write a python program  that takes a string from the command line and identifies and prints if it is a palindrome or not. \n",
    "(A palindrome is a string that is identical when read forward or backward e.g. racecar, abba)<br>\n",
    "## Requirements \n",
    "(1) Your program should capture the string data from the command line <br>\n",
    "(2) Your program should use **python exception** (i.e.)  to validate that the user of the program provides the correct arguements at the command line <br>\n",
    "Hint: You can  use negative indices in For or While loop. See the example use cases below.<br>\n",
    "\n",
    "`python  is_palindrome.py     abba`<br>\n",
    "**True**<br>\n",
    "<br>`python is_palindrome.py cat`<br>\n",
    "**False**<br><br>\n",
    "`python  is_palindrome.py`\n",
    "<br>**Please provide a string additional command line arguement**\n",
    "\n",
    "\n",
    "\n",
    "\n"
   ]
  },
  {
   "cell_type": "code",
   "execution_count": 42,
   "metadata": {},
   "outputs": [
    {
     "name": "stdout",
     "output_type": "stream",
     "text": [
      "Overwriting is_palindrome.py\n"
     ]
    }
   ],
   "source": [
    "%%writefile is_palindrome.py\n",
    "# Used to create an exicutable .py file \n",
    "# Note that %%writefile must come at the top of the cell\n",
    "\n",
    "# Everything below is written to the file\n",
    "\n",
    "# Importing sys to use commandline input\n",
    "import sys\n",
    "\n",
    "try:\n",
    "    def is_palindrome():\n",
    "        word = sys.argv[1]\n",
    "        for i in range(len(word)//2):\n",
    "            if word[i]  != word [-(i+1)]:\n",
    "                return print(False)\n",
    "        return print(True)\n",
    "\n",
    "    is_palindrome()\n",
    "except:\n",
    "    print(\"Please provide a string additional command line argument\")"
   ]
  },
  {
   "cell_type": "code",
   "execution_count": 43,
   "metadata": {},
   "outputs": [
    {
     "name": "stdout",
     "output_type": "stream",
     "text": [
      "True\n"
     ]
    }
   ],
   "source": [
    "!python is_palindrome.py abba"
   ]
  },
  {
   "cell_type": "code",
   "execution_count": 44,
   "metadata": {},
   "outputs": [
    {
     "name": "stdout",
     "output_type": "stream",
     "text": [
      "False\n"
     ]
    }
   ],
   "source": [
    "!python is_palindrome.py cat"
   ]
  },
  {
   "cell_type": "code",
   "execution_count": 37,
   "metadata": {},
   "outputs": [
    {
     "name": "stdout",
     "output_type": "stream",
     "text": [
      "True\n"
     ]
    }
   ],
   "source": [
    "!python is_palindrome.py racecar"
   ]
  },
  {
   "cell_type": "code",
   "execution_count": 38,
   "metadata": {},
   "outputs": [
    {
     "name": "stdout",
     "output_type": "stream",
     "text": [
      "Please provide a string additional command line argument\n"
     ]
    }
   ],
   "source": [
    "!python is_palindrome.py"
   ]
  }
 ],
 "metadata": {
  "kernelspec": {
   "display_name": "Python 3",
   "language": "python",
   "name": "python3"
  },
  "language_info": {
   "codemirror_mode": {
    "name": "ipython",
    "version": 3
   },
   "file_extension": ".py",
   "mimetype": "text/x-python",
   "name": "python",
   "nbconvert_exporter": "python",
   "pygments_lexer": "ipython3",
   "version": "3.11.1"
  },
  "vscode": {
   "interpreter": {
    "hash": "076ce45b75459bed5afd64abb44a887be25134f958609de81e763b3ff86dd5f0"
   }
  }
 },
 "nbformat": 4,
 "nbformat_minor": 4
}
