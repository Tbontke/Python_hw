{
 "cells": [
  {
   "attachments": {},
   "cell_type": "markdown",
   "metadata": {},
   "source": [
    "# Part A\n",
    "#### Execute each cell. Address the question raised in each cell by typing in your answer. Repeat until you get it correct.<br> <br>Note you are comparing your assumptions and solutions to how python actually solves the problem."
   ]
  },
  {
   "cell_type": "code",
   "execution_count": 1,
   "metadata": {},
   "outputs": [
    {
     "name": "stdout",
     "output_type": "stream",
     "text": [
      "2.5\n",
      "You are Correct\n"
     ]
    }
   ],
   "source": [
    "my_answer = eval (input (f'What is the value of 10/4 ?\\n'))\n",
    "\n",
    "print(my_answer)\n",
    "\n",
    "if my_answer== 10/4:\n",
    "    print(\"You are Correct\")\n",
    "else:\n",
    "    print(\"Wrong Answer, Try Again\")\n",
    "\n",
    "    \n"
   ]
  },
  {
   "cell_type": "code",
   "execution_count": 2,
   "metadata": {},
   "outputs": [
    {
     "name": "stdout",
     "output_type": "stream",
     "text": [
      "2\n",
      "You are Correct\n"
     ]
    }
   ],
   "source": [
    "my_answer = eval (input (f'What is the value of 10//4 ?\\n'))\n",
    "\n",
    "print(my_answer)\n",
    "\n",
    "if my_answer== 10//4:\n",
    "    print(\"You are Correct\")\n",
    "else:\n",
    "    print(\"Wrong Answer, Try Again\")"
   ]
  },
  {
   "cell_type": "code",
   "execution_count": 3,
   "metadata": {},
   "outputs": [
    {
     "name": "stdout",
     "output_type": "stream",
     "text": [
      "2.0\n",
      "You are Correct\n"
     ]
    }
   ],
   "source": [
    "my_answer = eval (input (f'What is the value of float(10//4) ?\\n'))\n",
    "\n",
    "print(my_answer)\n",
    "\n",
    "if my_answer== float(10//4) and isinstance( my_answer, float) :\n",
    "    print(\"You are Correct\")\n",
    "else:\n",
    "    print(\"Wrong Answer, Try Again\")"
   ]
  },
  {
   "cell_type": "code",
   "execution_count": 4,
   "metadata": {},
   "outputs": [
    {
     "name": "stdout",
     "output_type": "stream",
     "text": [
      "5.0\n",
      "You are Correct\n"
     ]
    }
   ],
   "source": [
    "my_answer = eval (input (f'What is the value of 2.0 + 10//3 ?\\n'))\n",
    "\n",
    "print(my_answer)\n",
    "\n",
    "if my_answer== 2.0 + 10//3  and isinstance( my_answer, float) :\n",
    "    print(\"You are Correct\")\n",
    "else:\n",
    "    print(\"Wrong Answer, Try Again\")"
   ]
  },
  {
   "cell_type": "code",
   "execution_count": 5,
   "metadata": {},
   "outputs": [
    {
     "name": "stdout",
     "output_type": "stream",
     "text": [
      "2\n",
      "You are Correct\n"
     ]
    }
   ],
   "source": [
    "my_answer = eval (input (f'What is the value of int(10/4) ?\\n'))\n",
    "\n",
    "print(my_answer)\n",
    "\n",
    "if my_answer== int(10/4) and isinstance( my_answer, int) :\n",
    "    print(\"You are Correct\")\n",
    "else:\n",
    "    print(\"Wrong Answer, Try Again\")"
   ]
  },
  {
   "cell_type": "code",
   "execution_count": 6,
   "metadata": {},
   "outputs": [
    {
     "name": "stdout",
     "output_type": "stream",
     "text": [
      "4\n",
      "You are Correct\n"
     ]
    }
   ],
   "source": [
    "my_answer = eval (input (f'What is the value of int(4.3) ?\\n'))\n",
    "\n",
    "print(my_answer)\n",
    "\n",
    "if my_answer== int(4.3) and isinstance( my_answer, int) :\n",
    "    print(\"You are Correct\")\n",
    "else:\n",
    "    print(\"Wrong Answer, Try Again\")"
   ]
  },
  {
   "cell_type": "code",
   "execution_count": 7,
   "metadata": {},
   "outputs": [
    {
     "name": "stdout",
     "output_type": "stream",
     "text": [
      "2.5\n",
      "You are Correct\n"
     ]
    }
   ],
   "source": [
    "my_answer = eval (input (f'What is the value of 10.0/4.0 ?\\n'))\n",
    "\n",
    "print(my_answer)\n",
    "\n",
    "if my_answer == 10.0/4.0 and isinstance( my_answer, float) :\n",
    "    print(\"You are Correct\")\n",
    "else:\n",
    "    print(\"Wrong Answer, Try Again\")"
   ]
  },
  {
   "cell_type": "code",
   "execution_count": 8,
   "metadata": {},
   "outputs": [
    {
     "name": "stdout",
     "output_type": "stream",
     "text": [
      "2\n",
      "You are Correct\n"
     ]
    }
   ],
   "source": [
    "my_answer = eval (input (f'What is the value of 10 % 4 ?\\n'))\n",
    "\n",
    "print(my_answer)\n",
    "\n",
    "if my_answer == 10%4 and isinstance( my_answer, int) :\n",
    "    print(\"You are Correct\")\n",
    "else:\n",
    "    print(\"Wrong Answer, Try Again\")"
   ]
  },
  {
   "cell_type": "code",
   "execution_count": 9,
   "metadata": {},
   "outputs": [
    {
     "name": "stdout",
     "output_type": "stream",
     "text": [
      "2\n",
      "You are Correct\n"
     ]
    }
   ],
   "source": [
    "my_answer = eval (input (f'What is the value of 2 % 10 ?\\n'))\n",
    "\n",
    "print(my_answer)\n",
    "\n",
    "if my_answer == 2 % 10 and isinstance( my_answer, int) :\n",
    "    print(\"You are Correct\")\n",
    "else:\n",
    "    print(\"Wrong Answer, Try Again\")"
   ]
  },
  {
   "cell_type": "code",
   "execution_count": 10,
   "metadata": {},
   "outputs": [
    {
     "name": "stdout",
     "output_type": "stream",
     "text": [
      "729\n",
      "You are Correct\n"
     ]
    }
   ],
   "source": [
    "my_answer = eval (input (f'What is the value of 9**3 ?\\n'))\n",
    "\n",
    "print(my_answer)\n",
    "\n",
    "if my_answer == 9**3 and isinstance( my_answer, int) :\n",
    "    print(\"You are Correct\")\n",
    "else:\n",
    "    print(\"Wrong Answer, Try Again\")"
   ]
  },
  {
   "cell_type": "code",
   "execution_count": 12,
   "metadata": {},
   "outputs": [
    {
     "name": "stdout",
     "output_type": "stream",
     "text": [
      "3.0\n",
      "You are Correct\n"
     ]
    }
   ],
   "source": [
    "my_answer = eval (input (f'What is the value of 9 ** .5 ?\\n'))\n",
    "\n",
    "print(my_answer)\n",
    "\n",
    "# It is kind of unnecessary to require the answer to be a float\n",
    "if my_answer == 9**.5 and isinstance( my_answer, float) :\n",
    "    print(\"You are Correct\")\n",
    "else:\n",
    "    print(\"Wrong Answer, Try Again\")"
   ]
  },
  {
   "cell_type": "code",
   "execution_count": 13,
   "metadata": {},
   "outputs": [
    {
     "name": "stdout",
     "output_type": "stream",
     "text": [
      "3\n",
      "You are Correct\n"
     ]
    }
   ],
   "source": [
    "my_answer = eval (input (f'What is the value of 3 ** 2 ** 0 ?\\n'))\n",
    "\n",
    "print(my_answer)\n",
    "\n",
    "if my_answer == 3 ** 2 ** 0 and isinstance( my_answer, int) :\n",
    "    print(\"You are Correct\")\n",
    "else:\n",
    "    print(\"Wrong Answer, Try Again\")"
   ]
  },
  {
   "cell_type": "code",
   "execution_count": 14,
   "metadata": {},
   "outputs": [
    {
     "name": "stdout",
     "output_type": "stream",
     "text": [
      "1\n",
      "You are Correct\n"
     ]
    }
   ],
   "source": [
    "my_answer = eval (input (f'What is the value of 2 ** 0 ** 3 ?\\n'))\n",
    "\n",
    "print(my_answer)\n",
    "\n",
    "if my_answer == 2 ** 0 ** 3 and isinstance( my_answer, int) :\n",
    "    print(\"You are Correct\")\n",
    "else:\n",
    "    print(\"Wrong Answer, Try Again\")"
   ]
  },
  {
   "cell_type": "code",
   "execution_count": 15,
   "metadata": {},
   "outputs": [
    {
     "name": "stdout",
     "output_type": "stream",
     "text": [
      "13.0\n",
      "You are Correct\n"
     ]
    }
   ],
   "source": [
    "my_answer = eval (input (f'What is the value of 3.0 + 10 ?\\n'))\n",
    "\n",
    "print(my_answer)\n",
    "\n",
    "if my_answer == 3.0 + 10 and isinstance( my_answer, float) :\n",
    "    print(\"You are Correct\")\n",
    "else:\n",
    "    print(\"Wrong Answer, Try Again\")"
   ]
  },
  {
   "cell_type": "code",
   "execution_count": 16,
   "metadata": {},
   "outputs": [
    {
     "name": "stdout",
     "output_type": "stream",
     "text": [
      "68.0\n",
      "You are Correct\n"
     ]
    }
   ],
   "source": [
    "my_answer = eval (input (f'What is the value of 4+2**8/4 ?\\n'))\n",
    "\n",
    "print(my_answer)\n",
    "\n",
    "if my_answer == 4+2**8/4 and isinstance( my_answer, float) :\n",
    "    print(\"You are Correct\")\n",
    "else:\n",
    "    print(\"Wrong Answer, Try Again\")"
   ]
  },
  {
   "cell_type": "markdown",
   "metadata": {},
   "source": [
    "# Part B\n",
    "######  In the problems below replace pass with python statement(s) that solves the problem"
   ]
  },
  {
   "cell_type": "markdown",
   "metadata": {},
   "source": [
    "#### 1. Write a single Python statement that will print the following message to the screen:  I’m super excited about computer science"
   ]
  },
  {
   "cell_type": "code",
   "execution_count": 17,
   "metadata": {},
   "outputs": [
    {
     "name": "stdout",
     "output_type": "stream",
     "text": [
      "I'm super excited about computer science\n"
     ]
    }
   ],
   "source": [
    "def my_message():\n",
    "    print(\"I'm super excited about computer science\")\n",
    "\n",
    "\n",
    "my_message()"
   ]
  },
  {
   "cell_type": "markdown",
   "metadata": {},
   "source": [
    "#### 2. Complete the function that creates a variable called day and assign the value Wednesday. What is the data type for that variable?"
   ]
  },
  {
   "cell_type": "code",
   "execution_count": 22,
   "metadata": {},
   "outputs": [
    {
     "name": "stdout",
     "output_type": "stream",
     "text": [
      "Wednesday\n"
     ]
    },
    {
     "data": {
      "text/plain": [
       "str"
      ]
     },
     "execution_count": 22,
     "metadata": {},
     "output_type": "execute_result"
    }
   ],
   "source": [
    "#This question is ambiguous\n",
    "def my_type():\n",
    "    day = \"Wednesday\"\n",
    "    return day\n",
    "\n",
    "\n",
    "print(my_type())\n",
    "type(my_type())"
   ]
  },
  {
   "cell_type": "markdown",
   "metadata": {},
   "source": [
    "#### 3. Request the user to type his/her first name and assign it to a variable called first_name. Then request the user to type his/her last name and store in variable last_name. Then print the following message (in a single line): Hi <first name> <last name>, how’s it going?"
   ]
  },
  {
   "cell_type": "code",
   "execution_count": 24,
   "metadata": {},
   "outputs": [
    {
     "name": "stdout",
     "output_type": "stream",
     "text": [
      "Hi Trevor, how is it going?\n"
     ]
    }
   ],
   "source": [
    "def my_message2():\n",
    "    first_name = input(\"Please enter your firsts name.\")\n",
    "    print(f\"Hi {first_name}, how is it going?\")\n",
    "\n",
    "my_message2()"
   ]
  },
  {
   "attachments": {},
   "cell_type": "markdown",
   "metadata": {},
   "source": [
    "##### 4. Request the user's birth year and compute his/her age. Send a message to the screen with the age.\n",
    " "
   ]
  },
  {
   "cell_type": "code",
   "execution_count": 26,
   "metadata": {},
   "outputs": [
    {
     "name": "stdout",
     "output_type": "stream",
     "text": [
      "You are 30 years old this year!\n"
     ]
    }
   ],
   "source": [
    "def my_message3():\n",
    "    year_curr = 2023\n",
    "    year_birth = int(input(\"In what year were you born?\"))\n",
    "    print(f\"You are {year_curr - year_birth} years old this year!\")\n",
    "\n",
    "my_message3()"
   ]
  },
  {
   "cell_type": "markdown",
   "metadata": {},
   "source": [
    "#### 5. Calculate the time it will take a runner to run a 10 miler with the following pace segments: the first mile at a pace of 8.5 minutes per mile, the following 4 miles at a pace of 8.15 minutes per mile, the following 4 miles at a pace of 8.10 and the last mile back at a relaxed pace of 8.5 minutes per mile.  "
   ]
  },
  {
   "cell_type": "code",
   "execution_count": 27,
   "metadata": {},
   "outputs": [
    {
     "data": {
      "text/plain": [
       "82.0"
      ]
     },
     "execution_count": 27,
     "metadata": {},
     "output_type": "execute_result"
    }
   ],
   "source": [
    "def my_total_miles():\n",
    "    return (1*8.5) + (4*8.15) + (4*8.10) + (1*8.5)\n",
    "\n",
    "my_total_miles()"
   ]
  }
 ],
 "metadata": {
  "kernelspec": {
   "display_name": "Python 3",
   "language": "python",
   "name": "python3"
  },
  "language_info": {
   "codemirror_mode": {
    "name": "ipython",
    "version": 3
   },
   "file_extension": ".py",
   "mimetype": "text/x-python",
   "name": "python",
   "nbconvert_exporter": "python",
   "pygments_lexer": "ipython3",
   "version": "3.11.1 (tags/v3.11.1:a7a450f, Dec  6 2022, 19:58:39) [MSC v.1934 64 bit (AMD64)]"
  },
  "vscode": {
   "interpreter": {
    "hash": "076ce45b75459bed5afd64abb44a887be25134f958609de81e763b3ff86dd5f0"
   }
  }
 },
 "nbformat": 4,
 "nbformat_minor": 2
}
